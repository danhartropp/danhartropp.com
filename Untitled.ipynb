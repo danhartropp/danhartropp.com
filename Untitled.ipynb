{
 "cells": [
  {
   "cell_type": "code",
   "execution_count": 42,
   "metadata": {},
   "outputs": [],
   "source": []
  },
  {
   "cell_type": "code",
   "execution_count": 43,
   "metadata": {},
   "outputs": [
    {
     "data": {
      "text/plain": [
       "['2021-02-12.html', 'instagram.html']"
      ]
     },
     "execution_count": 43,
     "metadata": {},
     "output_type": "execute_result"
    }
   ],
   "source": [
    "listdir('read')"
   ]
  },
  {
   "cell_type": "code",
   "execution_count": 39,
   "metadata": {},
   "outputs": [],
   "source": []
  },
  {
   "cell_type": "code",
   "execution_count": 51,
   "metadata": {},
   "outputs": [
    {
     "name": "stdout",
     "output_type": "stream",
     "text": [
      "read/2021-02-12.html\n",
      "read/instagram.html\n"
     ]
    }
   ],
   "source": [
    "import re\n",
    "from os import listdir\n",
    "\n",
    "target = '\\*\\*\\*main\\*\\*\\*[\\s\\S]*\\*\\*\\*endmain\\*\\*\\*'\n",
    "\n",
    "with open('index.html') as f:\n",
    "    index_page = f.read()\n",
    "    \n",
    "for page in listdir('read'):\n",
    "    print('read/' + page)\n",
    "    with open('read/' + page, 'r+') as f:\n",
    "        oldpage = f.read()\n",
    "        f.seek(0)\n",
    "        content = re.findall(target, oldpage)[0]\n",
    "        newpage = re.sub(target,content,index_page)\n",
    "        f.write(newpage)\n",
    "        f.truncate()"
   ]
  },
  {
   "cell_type": "code",
   "execution_count": 40,
   "metadata": {},
   "outputs": [],
   "source": []
  },
  {
   "cell_type": "code",
   "execution_count": 41,
   "metadata": {},
   "outputs": [],
   "source": [
    "with open('newpage.html','w') as f:\n",
    "    f.write(newpage)"
   ]
  },
  {
   "cell_type": "code",
   "execution_count": 32,
   "metadata": {},
   "outputs": [
    {
     "data": {
      "text/plain": [
       "'***main*** -->\\n      <main id=\"maincontent\">\\n      <section>\\n        <div class=\"container is-max-widescreen box\">\\n          <h1 class=\"title\">An Instaplan</h1>\\n          <h2 class=\"subtitle\">2021-02-15</h2>\\n          <div class=\"content\">\\n            <p>Instagram is (as we all know) not just about the numbers. But, if the point of posting things to a platform is for other people to see them, then the more people that see those things the better. It follows that the more followers I have, the more people will see my things, which is a good thing.</p>\\n            <p>I\\'ve just finished a week of promoting my most popular post, which looks like it might have driven quite a lot of new followers (like dozens) based on what happens in a week when I\\'m not promoting something, althouoghh the promoted post \\'insights\\' suggest it only generated 9 extra followers, which at the cost of Â£25 really isn\\'t worth it. I can\\'t see an easy way of getting baseline data for how much IN engaged with other accounts during the week, so we\\'ll use daily active time as proxy. Over the last 7 days I was on Instagram for an average of 36 minutes a day and gained 118 followers. So Â£25 bought me 3.27 followers per minute of engagement.</p>\\n            <p>This week, I\\'m going to post every day and engage with people as normal - which means liking all the things I see that I like, commenting on anything I really like, or have something to say about and following back anyone who\\'s feed I like the look of. This will act as a baseline week ... how many new followers do I pick up per minute of engagement when I\\'m using Instragram in a purely natural way?</p>\\n            <p>Next week I\\'ll continue normal engagement, but proactively follow a hundred accounts, which I\\'ll find by targeting those accounts that have liked something similar to my work, and are not private.</p>\\n            <p>Then I\\'ll reduce my level of engagement for a week - does the number of new followers decrease proportionally?</p>\\n            <p>In the final week, I\\'ll reach out to some amplifier accounts and see where that takes thigns ... this is really a head-to-head with the promoted post ... does Â£25 spent with amplififer accounts give better results than Â£25 spent with Instagram?</p>\\n          </div>\\n        </div>\\n      </section>\\n    </main>\\n    <!-- ***endmain***'"
      ]
     },
     "execution_count": 32,
     "metadata": {},
     "output_type": "execute_result"
    }
   ],
   "source": [
    "content"
   ]
  },
  {
   "cell_type": "code",
   "execution_count": 34,
   "metadata": {},
   "outputs": [
    {
     "data": {
      "text/plain": [
       "[]"
      ]
     },
     "execution_count": 34,
     "metadata": {},
     "output_type": "execute_result"
    }
   ],
   "source": [
    "re.findall(target, index_page)"
   ]
  },
  {
   "cell_type": "code",
   "execution_count": 35,
   "metadata": {},
   "outputs": [
    {
     "data": {
      "text/plain": [
       "'<!DOCTYPE html>\\n<html lang=\"en\">\\n  <head>\\n    <meta charset=\"utf-8\">\\n    <meta name=\"viewport\" content=\"width=device-width, initial-scale=1\">\\n    <title>Dan Hartropp</title>\\n\\n    <link rel=\"apple-touch-icon\" sizes=\"180x180\" href=\"/apple-touch-icon.png\">\\n    <link rel=\"icon\" type=\"image/png\" sizes=\"32x32\" href=\"/favicon-32x32.png\">\\n    <link rel=\"icon\" type=\"image/png\" sizes=\"16x16\" href=\"/favicon-16x16.png\">\\n    <link rel=\"manifest\" href=\"/site.webmanifest\">\\n    <link rel=\"mask-icon\" href=\"/safari-pinned-tab.svg\" color=\"#5bbad5\">\\n    <link rel=\"stylesheet\" href=\"https://cdn.jsdelivr.net/npm/bulma@0.9.1/css/bulma.min.css\">\\n    \\n  \\n    <style>\\n\\n      body {\\n          padding: 20px;\\n      }\\n\\n      /* set width on the outer elements to center the middle bit */\\n      @media screen and (min-width: 1024px) {\\n      .navbar-brand, .navbar-end {\\n          width: 15vw;\\n        }\\n      }\\n\\n      @media screen and (max-width: 1023px){\\n        .container.is-fluid {\\n        padding-left: 0px;\\n        padding-right: 0px;\\n      }\\n      }\\n\\n      .padded-multiline {         \\n        box-decoration-break: clone;\\n        -webkit-box-decoration-break: clone;\\n      }\\n\\n\\n      .bg-image {\\n          background-size: cover;\\n          background-position: center;\\n      }\\n\\n      a.navbar-item::after {\\n          content: attr(title);\\n          font-weight: 600;\\n          height: 0;\\n          overflow: hidden;\\n          visibility: hidden;\\n      }\\n\\n      a.navbar-item {\\n        flex-direction: column;\\n        justify-content: center;\\n      }\\n\\n      a.navbar-item:hover {\\n          background-color: #fafafa;\\n          font-weight: 600;\\n          color: #4a4a4a;\\n      }\\n\\n\\n\\n      .skip-link {\\n        position: absolute;\\n        top: -40px;\\n        left: 0;\\n        background: #000000;\\n        color: white;\\n        padding: 8px;\\n        z-index: 100;\\n      }\\n\\n      .skip-link:focus {\\n        top: 0;\\n      }\\n\\n    </style>\\n\\n    \\n\\n\\n\\n  </head>\\n  <body>\\n    <a class=\"skip-link\" href=\"#maincontent\">Skip to main content</a>\\n      <nav class=\"navbar pb-6\" role=\"navigation\" aria-label=\"main navigation\">\\n          <div class=\"navbar-brand\">\\n            <a class=\"navbar-item is-size-3 has-text-weight-bold\" href=\"https://www.danhartropp.com\">DAN HARTROPP</a>\\n            <a role=\"button\" class=\"navbar-burger\" aria-label=\"menu\" aria-expanded=\"false\" data-target=\"navbar\">\\n              <span aria-hidden=\"true\"></span>\\n              <span aria-hidden=\"true\"></span>\\n              <span aria-hidden=\"true\"></span>\\n            </a>\\n          </div>\\n        \\n          <div id=\"navbar\" class=\"navbar-menu\">\\n            <div class=\"navbar-start is-flex-grow-2 is-justify-content-center\">\\n              <a class=\"navbar-item\" title=\"Look\">Look</a>\\n              <a class=\"navbar-item\" title=\"Read\">Read</a>\\n              <a class=\"navbar-item\" title=\"Get in touch\">Get in touch</a>\\n            </div>\\n        \\n            <div class=\"navbar-end\">\\n              <div class=\"navbar-item\">\\n                <a href=\"https://www.instagram.com/danhartropp/\"><img src=\"/img/ig-logo-black.svg\" alt=\"Find me on Instagram\" width=\"36\" height=\"36\"></a>\\n                <a href=\"https://www.facebook.com/DanHartroppArt/\"><img src=\"/img/fb-logo-black.svg\" alt=\"Find me on facebook\" width=\"36\" height=\"36\"></a>\\n              </div>\\n            </div>\\n          </div>\\n        </nav>\\n\\n        <section class=\"hero is-medium bg-image\" style=\"background-image: url(\\'./img/guardian.jpg\\');\">\\n          <div class=\"hero-body\">\\n            <p class=\"title has-text-centered is-size-1 has-text-light \">\\n              <span class=\"has-background-black-bis px-3 padded-multiline\">Art. </span></p>\\n            <p class=\"subtitle has-text-centered is-size-2 has-text-light\">\\n              <span class=\"has-background-black-bis px-3 padded-multiline\">Hand-coded in London.  </span>  </p>\\n\\n          </div>\\n        </section>\\n\\n\\n      <main id=\"maincontent\">\\n      <section>\\n        <div class=\"container is-fluid py-6\">\\n          <div class=\"tile is-ancestor\">\\n            <div class=\"tile is-vertical is-7\">\\n              <div class=\"tile\">\\n                <div class=\"tile is-parent is-vertical\">\\n                  <article class=\"tile is-child box\">\\n                    <p class=\"title\"><span>Week note</span></p>\\n                    <p class=\"subtitle\">2021-02-12</p>\\n                  </article>\\n                  <article class=\"tile is-child box\">\\n                    <p class=\"title\"><span>Thoughts about my creative process</span></p>\\n                    <p class=\"subtitle\">2021-02-11</p>\\n                    <p></p>\\n                  </article>\\n                </div>\\n                <div class=\"tile is-parent\">\\n                  <article class=\"tile is-child box\">\\n                    <p class=\"title\"><span>Featured Piece</span></p>\\n                    <p class=\"subtitle\">The FTSE100</p>\\n                    <p>This is a work by Bruegel, re-worked using on a week\\'s worth of FTSE100 closing price data.</p>\\n                      <figure class=\"image is-square mt-3\">\\n                        <img src=\"/img/art/bruegel_ftse100.jpg\" alt=\"placeholder\">\\n                      </figure>\\n                    \\n                  </article>\\n                </div>\\n              </div>\\n              <div class=\"tile is-parent is-vertical\">\\n                  <article class=\"tile is-child box\" style=\"background-image: url(\\'/img/linear_thinking.jpg\\');\">\\n                    <a href=\"https://example.com\">\\n                    <p class=\"title has-text-light\"><span class=\"has-background-black-bis px-3\">Linear thinking</span></p>\\n                    <p class=\"subtitle has-text-light\"><span class=\"has-background-black-bis px-3 pb-1 padded-multiline\">\\n                      A collection of things made from lines.</span></p></a>\\n                  </article>\\n                \\n                <article class=\"tile is-child box\" style=\"background-image: url(\\'/img/remastered.jpg\\');\">\\n                  <a href=\"https://example.com\">\\n                  <p class=\"title has-text-light\"><span class=\"has-background-black-bis px-3\">Remastered</span></p>\\n                  <p class=\"subtitle has-text-light\"><span class=\"has-background-black-bis px-3 pb-1 padded-multiline\">\\n                    Standing on the shoulders of giants.</span></p></a>\\n                </article>\\n                <article class=\"tile is-child box\" style=\"background-image: url(\\'/img/barcodes.jpg\\');\">\\n                  <a href=\"https://example.com\">\\n                  <p class=\"title has-text-light\"><span class=\"has-background-black-bis px-3\">Barcodes</span></p>\\n                  <p class=\"subtitle has-text-light\"><span class=\"has-background-black-bis px-3 pb-1 padded-multiline\">\\n                          Standing on the shoulders of barcodes.</span></p>\\n                   </a>\\n  \\n  \\n  \\n                </article>\\n              </div>\\n            </div>\\n            <div class=\"tile is-parent is-vertical\">\\n              <article class=\"tile is-child box\">\\n                <div class=\"content\">\\n                  <p class=\"title\"><span>About this site</span></p>\\n                  <p class=\"subtitle\">... and my creative process</p>\\n                  <div class=\"content\">\\n  \\n                    <p>This site is mostly about the art that I make, but also a bit about other things too. Take a look around - you\\'ll find things to look at, things to read and things you can buy.</p>\\n  \\n                    <p>My art uses digital techniques to produce pieces with a modern feel, using hand-written code to generate and manipulate vector files. This site is also hand-written - I\\'m typing this (and all the html, scripts, styling etc) into a code editor. In an age of plugins, frameworks and design patterns, it\\'s quite nice to do things the long way round sometimes.</p> \\n  \\n                    <p>Chance plays a big part in my creative process - the art uses deliberately imprecise code to make sure I can\\'t dictate the outcome too clearly. I give the computer somewhere to start and some basic rules to follow, then wait to be surprised by the result.</p>\\n  \\n                    <p>Most of my pieces start with a source image, which can be as expressive as the work of an old master or as formulaic as a barcode. I use statistical techniques and randomised manipulations, adjusting parameters (and usually the algorithms themselves) many times for every piece.</p>\\n  \\n                    <p>I then select and edit the vector images, generate high-resolution renders and have them giclÃ©e printed. I have recently started experimenting with acrylic paint, transferring the image from the digital world to the physical world by hand.</p>\\n  \\n                    <p>You can follow my progress in my weeknotes on this site, or on instagram.</p>\\n  \\n                    <p>Finally, get in touch. I\\'d love to hear from you.</p>\\n                  </div>\\n                </div>\\n              </article>\\n              <div class=\"tile is-child box\">\\n                <p class=\"title\"><span>My newsletter</span></p>\\n                <p class=\"subtitle\"><span>It really is worth signing up.</span></p>\\n                <div class=\"content\">\\n                  <p>I know, I know. But pop your email address in the box below and every once in a blue moon, I\\'ll tell you about something interesting, offer you a special discount, or whatever. In the hierrarchy of who gets to know about things, the email list comes right behind existing customers, but ahead of instagram followers.</p> \\n                  <p>So jump the queue and sign up.</p>\\n                  <form name=\"newsLetterForm\" class=\"pt-4\" data-netlify=\"true\">\\n                    <div class=\"field is-grouped\">\\n                      <div class=\"control is-expanded\">\\n                        <input type=\"email\" name=\"email\" class=\"input\" placeholder=\"put your email address here then click the button -->\">\\n                      </div>\\n                      <div class=\"control\">\\n                        <button class=\"button is-primary\">sign up</button>\\n                      </div>\\n                    </div>\\n                  </form>\\n                </div>\\n                \\n  \\n              </div>\\n            </div>\\n          </div>\\n        </div>\\n      </section>\\n    </main>\\n      <footer class=\"footer has-background-black-bis mt-6\">\\n        <div class=\"columns\">\\n          <div class=\"column is-one-third\">\\n            <div class=\"content has-text-grey\">\\n              <p>\\n                This site is mostly coded by hand, by me.</p> \\n                <p>But life is too short to solve the complexities of flexbox and form layout, so I\\'m using Bulma - a lightweight framework by <a href=\"https://jgthms.com\" class=\"has-text-grey has-text-weight-semibold\">Jeremy Thomas</a>. The source code uses the\\n                <a href=\"http://opensource.org/licenses/mit-license.php\" class=\"has-text-grey has-text-weight-semibold\">MIT</a> licence. The website content, including images, are copyright me.\\n              </p>\\n              <p>&copy; 2021 Dan Hartropp</p>\\n            </div>\\n          </div>\\n          <div class=\"column\"></div>\\n          <div class=\"column\">\\n            <p class=\"title has-text-light\">Newsletter</p>\\n            <p class=\"subtitle has-text-light\">Seriously, you\\'re missing out on loads of good stuff.</p>\\n            <form name=\"newsLetterFooterForm\" class=\"pt-4\" data-netlify=\"true\">\\n              <div class=\"field is-grouped\">\\n                <div class=\"control is-expanded\">\\n                  <input class=\"input\" type=\"email\" name=\"email\" type=\"email\" placeholder=\"put your email address here\">\\n                  <p class=\"help is-danger errorMessage is-hidden\">That\\'s not a valid email address</p>\\n                </div>\\n                <div class=\"control\">\\n                  <button class=\"button is-primary\">sign up</button>\\n                </div>\\n              </div>\\n            </form>\\n          </div>\\n\\n        </div>\\n        <div class=\"content has-text-centered has-text-light\">\\n          \\n          <div class=\"pt-6\">\\n            <a href=\"https://www.instagram.com/danhartropp/\"><img src=\"/img/ig-logo-white.svg\" alt=\"Find me on Instagram\" width=\"36\" height=\"36\"></a>\\n            <a href=\"https://www.facebook.com/DanHartroppArt/\"><img src=\"/img/fb-logo-white.svg\" alt=\"Find me on facebook\" width=\"36\" height=\"36\"></a>\\n          </div>\\n          \\n          \\n        </div>\\n      </footer>\\n\\n    \\n\\n\\n\\n\\n<!-- navbar stuff -->\\n<script>document.addEventListener(\"DOMContentLoaded\",()=>{const e=Array.prototype.slice.call(document.querySelectorAll(\".navbar-burger\"),0);e.length>0&&e.forEach(e=>{e.addEventListener(\"click\",()=>{const t=e.dataset.target,a=document.getElementById(t);e.classList.toggle(\"is-active\"),a.classList.toggle(\"is-active\")})})});</script>\\n\\n\\n\\n\\n</body>\\n</html>'"
      ]
     },
     "execution_count": 35,
     "metadata": {},
     "output_type": "execute_result"
    }
   ],
   "source": [
    "index_page"
   ]
  },
  {
   "cell_type": "code",
   "execution_count": null,
   "metadata": {},
   "outputs": [],
   "source": []
  }
 ],
 "metadata": {
  "kernelspec": {
   "display_name": "Python 3",
   "language": "python",
   "name": "python3"
  },
  "language_info": {
   "codemirror_mode": {
    "name": "ipython",
    "version": 3
   },
   "file_extension": ".py",
   "mimetype": "text/x-python",
   "name": "python",
   "nbconvert_exporter": "python",
   "pygments_lexer": "ipython3",
   "version": "3.7.4"
  }
 },
 "nbformat": 4,
 "nbformat_minor": 2
}
