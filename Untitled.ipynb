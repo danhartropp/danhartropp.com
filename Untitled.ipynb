{
 "cells": [
  {
   "cell_type": "code",
   "execution_count": 31,
   "metadata": {},
   "outputs": [
    {
     "name": "stdout",
     "output_type": "stream",
     "text": [
      "Collecting python-frontmatter\n",
      "  Using cached python_frontmatter-0.5.0-py3-none-any.whl (8.4 kB)\n",
      "Requirement already satisfied: six in c:\\users\\dan\\appdata\\roaming\\python\\python37\\site-packages (from python-frontmatter) (1.15.0)\n",
      "Requirement already satisfied: PyYAML in c:\\users\\dan\\appdata\\local\\programs\\python\\python37-32\\lib\\site-packages (from python-frontmatter) (5.3.1)\n",
      "Installing collected packages: python-frontmatter\n",
      "Successfully installed python-frontmatter-0.5.0\n"
     ]
    }
   ],
   "source": [
    "import os, sys\n",
    "!{sys.executable} -m pip install python-frontmatter"
   ]
  },
  {
   "cell_type": "code",
   "execution_count": 1,
   "metadata": {},
   "outputs": [],
   "source": [
    "import csv\n",
    "import requests\n",
    "import frontmatter"
   ]
  },
  {
   "cell_type": "code",
   "execution_count": 2,
   "metadata": {},
   "outputs": [],
   "source": [
    "with open('C:/Users/Dan/Downloads/products.csv', encoding='utf-8') as f:\n",
    "    reader = csv.DictReader(f)\n",
    "    data = list(reader)"
   ]
  },
  {
   "cell_type": "code",
   "execution_count": 3,
   "metadata": {},
   "outputs": [],
   "source": [
    "products = {}\n",
    "for x in data:\n",
    "    if x['Handle'] not in products:\n",
    "        product = {'image':x['Image Src'],'body':x['Body (HTML)'],'price':x['Variant Price'], 'title':x['Title']}\n",
    "        products[x['Handle']] = product"
   ]
  },
  {
   "cell_type": "code",
   "execution_count": 29,
   "metadata": {},
   "outputs": [],
   "source": [
    "for product in products.items():\n",
    "    filetype = '.' + product[1]['image'].split('.')[-1].split('?')[0]\n",
    "    res = requests.get(product[1]['image'])\n",
    "    with open('static/img/art/' + product[0] + filetype, 'wb') as f:\n",
    "        f.write(res.content)"
   ]
  },
  {
   "cell_type": "code",
   "execution_count": 4,
   "metadata": {},
   "outputs": [],
   "source": [
    "for product in products.items():\n",
    "    filetype = '.' + product[1]['image'].split('.')[-1].split('?')[0]\n",
    "    image = product[0] + filetype\n",
    "    name = product[1]['title']\n",
    "    with open('content/look/' + product[0] + '.md', 'w') as f:\n",
    "        f.write('---' + '\\n')\n",
    "        f.write('name: ' + name + '\\n')\n",
    "        f.write('image: ' + image + '\\n')\n",
    "        f.write('handle: ' + product[0] + '\\n')\n",
    "        f.write('---' + '\\n')"
   ]
  },
  {
   "cell_type": "code",
   "execution_count": 27,
   "metadata": {},
   "outputs": [
    {
     "data": {
      "text/plain": [
       "'C:\\\\Users\\\\Dan\\\\Documents\\\\GitHub\\\\danhartropp.com'"
      ]
     },
     "execution_count": 27,
     "metadata": {},
     "output_type": "execute_result"
    }
   ],
   "source": [
    "pwd"
   ]
  },
  {
   "cell_type": "code",
   "execution_count": null,
   "metadata": {},
   "outputs": [],
   "source": []
  }
 ],
 "metadata": {
  "kernelspec": {
   "display_name": "Python 3",
   "language": "python",
   "name": "python3"
  },
  "language_info": {
   "codemirror_mode": {
    "name": "ipython",
    "version": 3
   },
   "file_extension": ".py",
   "mimetype": "text/x-python",
   "name": "python",
   "nbconvert_exporter": "python",
   "pygments_lexer": "ipython3",
   "version": "3.7.4"
  }
 },
 "nbformat": 4,
 "nbformat_minor": 2
}
